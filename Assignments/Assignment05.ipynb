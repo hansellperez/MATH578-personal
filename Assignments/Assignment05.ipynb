{
 "cells": [
  {
   "cell_type": "markdown",
   "id": "c238b1d1-a0f0-4ea2-9c76-2a875780b8f9",
   "metadata": {},
   "source": [
    "# Assignment 05\n",
    "\n",
    "Due Oct 20, 11:59pm. Please submit one .ipynb file to Beachboard. "
   ]
  },
  {
   "cell_type": "markdown",
   "id": "f622fa43-1614-4067-8124-c77cbae7ab33",
   "metadata": {},
   "source": [
    "<p style='text-align: right; '> Hansell Perez </p>\n",
    "<p style='text-align: right; '> October 20, 2022 </p>"
   ]
  },
  {
   "cell_type": "markdown",
   "id": "bc639fae-f2bf-4afa-ae2b-cb9a79e28592",
   "metadata": {},
   "source": [
    "Please implement the LU factorization scheme, then construct two examples to show the accuracy of the factorization. "
   ]
  },
  {
   "cell_type": "markdown",
   "id": "256cb8d5-1cb7-4caf-8908-f504c606ecd5",
   "metadata": {},
   "source": [
    "<div style=\"background-color:rgba(0, 0, 0, 0.0470588); padding:10px 0;font-family:monospace;\">\n",
    "This is pseudocode for <font color = \"red\">LU factorization</font><br><hr/><br>\n",
    "rows, cols = A.shape <br>\n",
    "for i in range(rows):<br>\n",
    "&nbsp;&nbsp;&nbsp;&nbsp; $L[i+1:rows,i]=\\dfrac{U[i+1:rows,i]}{U[i,i]}$<br>\n",
    "&nbsp;&nbsp;&nbsp;&nbsp; $U[i+1:rows,i:cols] -= L[i+1:rows,i]\\times U[i,i:cols]$ <font color = \"green\"># $\\times$ is for outer product</font><br>\n",
    "&nbsp;&nbsp;&nbsp;&nbsp; $U[i+1:rows,i] = 0$<br>\n",
    "</div>\n"
   ]
  },
  {
   "cell_type": "markdown",
   "id": "1f892eef-ebe4-4a7e-ba0a-dfc6a8b145a4",
   "metadata": {},
   "source": [
    "This pseudocode may not be exactly correct, and it may lack some steps. It's just for reference. "
   ]
  },
  {
   "cell_type": "code",
   "execution_count": 94,
   "id": "f6a5fdf5",
   "metadata": {},
   "outputs": [],
   "source": [
    "import numpy as np\n",
    "import random"
   ]
  },
  {
   "cell_type": "code",
   "execution_count": 89,
   "id": "673393d4",
   "metadata": {},
   "outputs": [],
   "source": [
    "def LU_decomp(A):\n",
    "    rows, cols = A.shape\n",
    "    if (rows != cols):\n",
    "        print(\"Matrix provided is not square.\")\n",
    "        return\n",
    "    else:\n",
    "        L = np.identity(rows)\n",
    "        U = np.array(np.zeros(rows*cols)).reshape(rows, cols)\n",
    "        \n",
    "        for i in range(rows):\n",
    "            for j in range(i, cols):\n",
    "                if (i==0):\n",
    "                    U[i][j] = A[i][j]\n",
    "                else:\n",
    "                    sum = 0\n",
    "                    for k in range(i):\n",
    "                        sum += (L[i][k]*U[k][j])\n",
    "                    U[i][j] = A[i][j] - sum\n",
    "        \n",
    "            for j in range(i):\n",
    "                if (j==0):\n",
    "                    L[i][j] = A[i][j]/U[j][j]\n",
    "                else:\n",
    "                    sum = 0\n",
    "                    for k in range(i):\n",
    "                        sum += (L[i][k]*U[k][j])\n",
    "                    L[i][j] = (A[i][j] - sum)/U[i][i]\n",
    "    return L, U\n",
    "    "
   ]
  },
  {
   "cell_type": "code",
   "execution_count": null,
   "id": "4f9ace3d",
   "metadata": {},
   "outputs": [],
   "source": [
    "different approach"
   ]
  },
  {
   "cell_type": "code",
   "execution_count": 113,
   "id": "c2a1997a",
   "metadata": {},
   "outputs": [],
   "source": [
    "MAX = 100\n",
    " \n",
    " \n",
    "def luDecomposition(mat, n):\n",
    " \n",
    "    lower = [[0 for x in range(n)]\n",
    "             for y in range(n)]\n",
    "    upper = [[0 for x in range(n)]\n",
    "             for y in range(n)]\n",
    " \n",
    "    # Decomposing matrix into Upper\n",
    "    # and Lower triangular matrix\n",
    "    for i in range(n):\n",
    " \n",
    "        # Upper Triangular\n",
    "        for k in range(i, n):\n",
    " \n",
    "            # Summation of L(i, j) * U(j, k)\n",
    "            sum = 0\n",
    "            for j in range(i):\n",
    "                sum += (lower[i][j] * upper[j][k])\n",
    " \n",
    "            # Evaluating U(i, k)\n",
    "            upper[i][k] = mat[i][k] - sum\n",
    " \n",
    "        # Lower Triangular\n",
    "        for k in range(i, n):\n",
    "            if (i == k):\n",
    "                lower[i][i] = 1  # Diagonal as 1\n",
    "            else:\n",
    " \n",
    "                # Summation of L(k, j) * U(j, i)\n",
    "                sum = 0\n",
    "                for j in range(i):\n",
    "                    sum += (lower[k][j] * upper[j][i])\n",
    " \n",
    "                # Evaluating L(k, i)\n",
    "                lower[k][i] = int((mat[k][i] - sum) /\n",
    "                                  upper[i][i])\n",
    " \n",
    "    # setw is for displaying nicely\n",
    "    print(\"Lower Triangular\\t\\tUpper Triangular\")\n",
    " \n",
    "    # Displaying the result :\n",
    "    for i in range(n):\n",
    " \n",
    "        # Lower\n",
    "        for j in range(n):\n",
    "            print(lower[i][j], end=\"\\t\")\n",
    "        print(\"\", end=\"\\t\")\n",
    " \n",
    "        # Upper\n",
    "        for j in range(n):\n",
    "            print(upper[i][j], end=\"\\t\")\n",
    "        print(\"\")"
   ]
  },
  {
   "cell_type": "code",
   "execution_count": 98,
   "id": "ab33cec5",
   "metadata": {},
   "outputs": [],
   "source": [
    "mat1 = [[2, -1, -2],\n",
    "       [-4, 6, 3],\n",
    "       [-4, -2, 8]]\n",
    "mat2 = np.random.randint(1,10,size=(6,6))\n"
   ]
  },
  {
   "cell_type": "code",
   "execution_count": 92,
   "id": "cb9001f6",
   "metadata": {},
   "outputs": [
    {
     "data": {
      "text/plain": [
       "(array([[ 1. ,  0. ,  0. ],\n",
       "        [-2. ,  1. ,  0. ],\n",
       "        [-2. , -0.5,  1. ]]),\n",
       " array([[ 2., -1., -2.],\n",
       "        [ 0.,  6.,  3.],\n",
       "        [ 0.,  0.,  8.]]),\n",
       " array([[ 2. , -1. , -2. ],\n",
       "        [-4. ,  8. ,  7. ],\n",
       "        [-4. , -1. , 10.5]]))"
      ]
     },
     "execution_count": 92,
     "metadata": {},
     "output_type": "execute_result"
    }
   ],
   "source": [
    "L,U = LU_decomp(np.array(mat1))\n",
    "L,U,L@U"
   ]
  },
  {
   "cell_type": "code",
   "execution_count": 112,
   "id": "8d98bd08",
   "metadata": {},
   "outputs": [
    {
     "name": "stdout",
     "output_type": "stream",
     "text": [
      "Lower Triangular\t\tUpper Triangular\n",
      "1\t0\t0\t\t2\t-1\t-2\t\n",
      "-2.0\t1\t0\t\t0\t4.0\t-1.0\t\n",
      "-2.0\t-1.0\t1\t\t0\t0\t3.0\t\n"
     ]
    }
   ],
   "source": [
    "luDecomposition(mat1, 3)"
   ]
  },
  {
   "cell_type": "code",
   "execution_count": 99,
   "id": "4a4c0d17",
   "metadata": {},
   "outputs": [
    {
     "data": {
      "text/plain": [
       "(array([[ 1.00000000e+00,  0.00000000e+00,  0.00000000e+00,\n",
       "          0.00000000e+00,  0.00000000e+00,  0.00000000e+00],\n",
       "        [ 1.00000000e+00,  1.00000000e+00,  0.00000000e+00,\n",
       "          0.00000000e+00,  0.00000000e+00,  0.00000000e+00],\n",
       "        [ 5.00000000e-01,  1.00000000e+00,  1.00000000e+00,\n",
       "          0.00000000e+00,  0.00000000e+00,  0.00000000e+00],\n",
       "        [ 7.50000000e-01,  1.16666667e+00, -2.75000000e+00,\n",
       "          1.00000000e+00,  0.00000000e+00,  0.00000000e+00],\n",
       "        [ 1.00000000e+00,  1.11111111e-01, -7.40740741e-02,\n",
       "         -1.89300412e-01,  1.00000000e+00,  0.00000000e+00],\n",
       "        [ 7.50000000e-01, -5.00000000e-01,  5.75000000e+00,\n",
       "         -3.57500000e+01,  1.40250000e+02,  1.00000000e+00]]),\n",
       " array([[8., 2., 3., 6., 6., 9.],\n",
       "        [0., 7., 6., 2., 6., 6.],\n",
       "        [0., 0., 1., 7., 8., 4.],\n",
       "        [0., 0., 0., 3., 5., 4.],\n",
       "        [0., 0., 0., 0., 9., 8.],\n",
       "        [0., 0., 0., 0., 0., 1.]]),\n",
       " array([[   8.        ,    2.        ,    3.        ,    6.        ,\n",
       "            6.        ,    9.        ],\n",
       "        [   8.        ,    9.        ,    9.        ,    8.        ,\n",
       "           12.        ,   15.        ],\n",
       "        [   4.        ,    8.        ,    8.5       ,   12.        ,\n",
       "           17.        ,   14.5       ],\n",
       "        [   6.        ,    9.66666667,    6.5       ,   -9.41666667,\n",
       "           -5.5       ,    6.75      ],\n",
       "        [   8.        ,    2.77777778,    3.59259259,    5.13580247,\n",
       "           14.12757202,   16.61316872],\n",
       "        [   6.        ,   -2.        ,    5.        ,  -63.5       ,\n",
       "         1131.        , 1006.75      ]]))"
      ]
     },
     "execution_count": 99,
     "metadata": {},
     "output_type": "execute_result"
    }
   ],
   "source": [
    "L,U = LU_decomp(np.array(mat2))\n",
    "L,U,L@U"
   ]
  },
  {
   "cell_type": "code",
   "execution_count": 104,
   "id": "68304c4b",
   "metadata": {},
   "outputs": [],
   "source": [
    "def LU_decomp(A):\n",
    "    rows, cols = A.shape\n",
    "    if (rows != cols):\n",
    "        print(\"Matrix provided is not square.\")\n",
    "        return\n",
    "    else:\n",
    "        L = np.identity(rows)\n",
    "        U = np.array(np.zeros(rows*cols)).reshape(rows, cols)\n",
    "        \n",
    "        \n",
    "        U[0] = A[0]\n",
    "        for i in range(rows):\n",
    "            L[i][0] = A[i][0]/U[0][0]\n",
    "            \n",
    "        for i in range(1, rows):\n",
    "            for j in range(i, cols):\n",
    "                sum = 0\n",
    "                for k in range(i):\n",
    "                    sum += (L[i][k]*U[k][j])\n",
    "                U[i][j] = A[i][j] - sum\n",
    "        \n",
    "            for j in range(i):\n",
    "                if (j==0):\n",
    "                    L[i][j] = A[i][j]/U[j][j]\n",
    "                else:\n",
    "                    sum = 0\n",
    "                    for k in range(i):\n",
    "                        sum += (L[i][k]*U[k][j])\n",
    "                    L[i][j] = (A[i][j] - sum)/U[i][i]\n",
    "    return L, U\n",
    "    "
   ]
  },
  {
   "cell_type": "code",
   "execution_count": 108,
   "id": "f473ddef",
   "metadata": {},
   "outputs": [
    {
     "data": {
      "text/plain": [
       "(array([[ 1.        ,  0.        ,  0.        ,  0.        ,  0.        ,\n",
       "          0.        ],\n",
       "        [ 1.        ,  1.        ,  0.        ,  0.        ,  0.        ,\n",
       "          0.        ],\n",
       "        [ 0.5       , -2.        ,  1.        ,  0.        ,  0.        ,\n",
       "          0.        ],\n",
       "        [ 0.75      , -2.33333333, -3.83333333,  1.        ,  0.        ,\n",
       "          0.        ],\n",
       "        [ 1.        ,  0.33333333, -0.33333333,  0.22222222,  1.        ,\n",
       "          0.        ],\n",
       "        [ 0.75      ,  0.08695652, -0.43289225, -0.97032958, -1.24341322,\n",
       "          1.        ]]),\n",
       " array([[ 8.  ,  2.  ,  3.  ,  6.  ,  6.  ,  9.  ],\n",
       "        [ 0.  ,  5.  ,  3.  , -4.  ,  0.  , -3.  ],\n",
       "        [ 0.  ,  0.  , -0.5 ,  4.  ,  5.  , -0.5 ],\n",
       "        [ 0.  ,  0.  ,  0.  , -1.5 ,  0.5 , -2.75],\n",
       "        [ 0.  ,  0.  ,  0.  ,  0.  ,  3.  , -1.  ],\n",
       "        [ 0.  ,  0.  ,  0.  ,  0.  ,  0.  , -5.75]]))"
      ]
     },
     "execution_count": 108,
     "metadata": {},
     "output_type": "execute_result"
    }
   ],
   "source": [
    "L,U = LU_decomp(np.array(mat2))\n",
    "L,U"
   ]
  },
  {
   "cell_type": "code",
   "execution_count": 109,
   "id": "8200b21d",
   "metadata": {},
   "outputs": [
    {
     "data": {
      "text/plain": [
       "array([[  8.        ,   2.        ,   3.        ,   6.        ,\n",
       "          6.        ,   9.        ],\n",
       "       [  8.        ,   7.        ,   6.        ,   2.        ,\n",
       "          6.        ,   6.        ],\n",
       "       [  4.        ,  -9.        ,  -5.        ,  15.        ,\n",
       "          8.        ,  10.        ],\n",
       "       [  6.        , -10.16666667,  -2.83333333,  -3.        ,\n",
       "        -14.16666667,  12.91666667],\n",
       "       [  8.        ,   3.66666667,   4.16666667,   3.        ,\n",
       "          7.44444444,   6.55555556],\n",
       "       [  6.        ,   1.93478261,   2.72731569,   3.87609928,\n",
       "         -1.87986571,   4.86739613]])"
      ]
     },
     "execution_count": 109,
     "metadata": {},
     "output_type": "execute_result"
    }
   ],
   "source": [
    "L@U"
   ]
  },
  {
   "cell_type": "code",
   "execution_count": 110,
   "id": "995a2dba",
   "metadata": {},
   "outputs": [
    {
     "data": {
      "text/plain": [
       "array([[8, 2, 3, 6, 6, 9],\n",
       "       [8, 7, 6, 2, 6, 6],\n",
       "       [4, 2, 1, 7, 8, 4],\n",
       "       [6, 5, 1, 3, 5, 4],\n",
       "       [8, 3, 3, 4, 9, 8],\n",
       "       [6, 1, 5, 8, 9, 1]])"
      ]
     },
     "execution_count": 110,
     "metadata": {},
     "output_type": "execute_result"
    }
   ],
   "source": [
    "mat2"
   ]
  },
  {
   "cell_type": "code",
   "execution_count": null,
   "id": "a32f4116",
   "metadata": {},
   "outputs": [],
   "source": []
  }
 ],
 "metadata": {
  "kernelspec": {
   "display_name": "Python 3 (ipykernel)",
   "language": "python",
   "name": "python3"
  },
  "language_info": {
   "codemirror_mode": {
    "name": "ipython",
    "version": 3
   },
   "file_extension": ".py",
   "mimetype": "text/x-python",
   "name": "python",
   "nbconvert_exporter": "python",
   "pygments_lexer": "ipython3",
   "version": "3.9.12"
  }
 },
 "nbformat": 4,
 "nbformat_minor": 5
}
