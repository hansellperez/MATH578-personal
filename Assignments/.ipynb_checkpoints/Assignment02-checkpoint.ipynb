{
 "cells": [
  {
   "cell_type": "markdown",
   "id": "e74034e2-76c7-4ad3-bfff-bf3def298403",
   "metadata": {},
   "source": [
    "# Assignment 02\n",
    "\n",
    "Due Sep 6, 11:59pm. Please submit one .ipynb file to Beachboard. "
   ]
  },
  {
   "cell_type": "markdown",
   "id": "aad57d23-4d52-4de0-a6cb-99b7fed84a91",
   "metadata": {},
   "source": [
    "<p style='text-align: right; '> Hansell Perez </p>\n",
    "<p style='text-align: right; '> 09/06/2022 </p>"
   ]
  },
  {
   "cell_type": "markdown",
   "id": "23e7dc87-44b3-46a1-90e5-2a7bda0c238d",
   "metadata": {},
   "source": [
    "Please go through and study the lecture note [Lec02_numPy.ipynb](https://nbviewer.org/github/huiprobable/MATH578F22CSULB/blob/main/Lectures/Lec02_numPy.ipynb) by yourself, and do the following tasks:\n",
    "\n",
    "#### You may choose to do five tasks out of seven below. \n",
    "\n",
    "1. Reverse a vector. Given a vector, reverse it such that the last element becomes the first, e.g. [1, 2, 3] => [3, 2, 1]\n",
    "\n",
    "2. Create a 2D array with zeros on the borders and 1 inside.\n",
    "\n",
    "3. Create a random array with elements [0, 1), then add 10 to all elements in the range [0.2, 0.7).\n",
    "\n",
    "4. Create a 1D array with 10 random elements. Sort it.\n",
    "\n",
    "5. For the random array in question 4, instead of sorting it, perform an indirect sort. That is, return the list of indices which would index the array in sorted order.\n",
    "\n",
    "6. Create a 4x4 array of zeros, and another 4x4 array of ones. Next combine them into a single 8x4 array with the content of the zeros array on top and the ones on the bottom. Finally, do the same, but create a 4x8 array with the zeros on the left and the ones on the right.\n",
    "\n",
    "7. NumPy functionality Create two 2D arrays and do matrix multiplication first manually (for loop), then using the np.dot function. Use %%timeit to compare execution times. What is happening?"
   ]
  },
  {
   "cell_type": "markdown",
   "id": "c451b33d-2b5c-40e9-8bd8-062f3762f414",
   "metadata": {},
   "source": [
    "This assignment requires a lot of google search and document reading, to find out suitable functions for different tasks. Please have adquate discussions with each other and with me. "
   ]
  },
  {
   "cell_type": "markdown",
   "id": "b267f8e0",
   "metadata": {},
   "source": [
    "#### 1. Reverse a vector. Given a vector, reverse it such that the last element becomes the first, e.g. [1, 2, 3] => [3, 2, 1]\n",
    "For this problem I chose to define the function \"reverse_me\" which has input \"vector\", the desired vector to be manipulates, and outputs the desired reversed vector. Note: there is already an existing function, \"reverse\", that does this same action."
   ]
  },
  {
   "cell_type": "code",
   "execution_count": 37,
   "id": "ca987746-c031-495d-89a8-ba250691b79c",
   "metadata": {},
   "outputs": [],
   "source": [
    "def reverse_me(vector):\n",
    "    reverse_vector = [0]*len(vector)\n",
    "    for x in range(len(vector)):\n",
    "        reverse_vector[x] = vector[len(vector)-(x+1)]\n",
    "    return(reverse_vector)"
   ]
  },
  {
   "cell_type": "code",
   "execution_count": 44,
   "id": "d49968d2",
   "metadata": {},
   "outputs": [],
   "source": [
    "vector1 = [1,2,3]\n",
    "vector2 = [\"apple\", \"banana\", \"pear\"]"
   ]
  },
  {
   "cell_type": "code",
   "execution_count": 45,
   "id": "15cba0d1",
   "metadata": {},
   "outputs": [
    {
     "name": "stdout",
     "output_type": "stream",
     "text": [
      "[3, 2, 1]\n",
      "['pear', 'banana', 'apple']\n"
     ]
    }
   ],
   "source": [
    "print(reverse_me(vector1))\n",
    "print(reverse_me(vector2))"
   ]
  },
  {
   "cell_type": "markdown",
   "id": "62534901",
   "metadata": {},
   "source": [
    "#### 2. Create a 2D array with zeros on the borders and 1 inside.\n",
    "For this exercise I decided to create another function with inputs $m$ and $n$ to specify the dimensions of the array as $m \\times n$. Note: if $m,n < 3$, there is no \"inside\" thus the array produced is filled by zero entries since everything is a \"border\"."
   ]
  },
  {
   "cell_type": "code",
   "execution_count": 74,
   "id": "f5650ad3",
   "metadata": {},
   "outputs": [],
   "source": [
    "import numpy as np\n",
    "\n",
    "def zero_border(m,n):\n",
    "    Array = np.array([[0]*n]*m)\n",
    "    if m >= 3:\n",
    "        Array[1:m-1,1:n-1] = 1\n",
    "    return(Array)"
   ]
  },
  {
   "cell_type": "markdown",
   "id": "fd6ef432",
   "metadata": {},
   "source": [
    "Below you can see a few example of the arrays created by the function defined above."
   ]
  },
  {
   "cell_type": "code",
   "execution_count": 75,
   "id": "93405f9a",
   "metadata": {},
   "outputs": [
    {
     "name": "stdout",
     "output_type": "stream",
     "text": [
      "[[0 0]\n",
      " [0 0]]\n",
      "[[0 0]\n",
      " [0 0]\n",
      " [0 0]]\n",
      "[[0 0 0]\n",
      " [0 0 0]]\n",
      "[[0 0 0 0 0 0]\n",
      " [0 1 1 1 1 0]\n",
      " [0 1 1 1 1 0]\n",
      " [0 1 1 1 1 0]\n",
      " [0 0 0 0 0 0]]\n"
     ]
    }
   ],
   "source": [
    "print(zero_border(2,2))\n",
    "print(zero_border(3,2))\n",
    "print(zero_border(2,3))\n",
    "print(zero_border(5,6))\n"
   ]
  },
  {
   "cell_type": "markdown",
   "id": "b6cb3fd0",
   "metadata": {},
   "source": [
    "#### 3. Create a random array with elements [0, 1), then add 10 to all elements in the range [0.2, 0.7).\n",
    "\n",
    "Below are two examples I tried. I'm not sure what the difference is, although example 1 I believe does not use numpy wheras example 2 does. I think using numpy is better practice but <span style=\"color: red;\"> I would appreciate some feedback.</span>"
   ]
  },
  {
   "cell_type": "markdown",
   "id": "0ae99f9e",
   "metadata": {},
   "source": [
    "Ex. 1: uses the append function to insert random values into an empty array of floating data type."
   ]
  },
  {
   "cell_type": "code",
   "execution_count": 94,
   "id": "2fd80580",
   "metadata": {},
   "outputs": [
    {
     "data": {
      "text/plain": [
       "array('f', [0.4849344491958618, 0.39080628752708435, 0.3301577866077423, 0.5519107580184937, 0.8641378283500671, 0.41793280839920044, 0.8913429379463196, 0.9241898059844971, 0.20068210363388062, 0.7009581327438354])"
      ]
     },
     "execution_count": 94,
     "metadata": {},
     "output_type": "execute_result"
    }
   ],
   "source": [
    "import random\n",
    "x = array('f',[])\n",
    "for i in range(10):\n",
    "    x.append(random.random())\n",
    "print(x)"
   ]
  },
  {
   "cell_type": "code",
   "execution_count": 104,
   "id": "dcad7c4a",
   "metadata": {},
   "outputs": [
    {
     "name": "stdout",
     "output_type": "stream",
     "text": [
      "array('f', [10.48493480682373, 10.390806198120117, 10.330158233642578, 10.551910400390625, 0.8641378283500671, 10.417932510375977, 0.8913429379463196, 0.9241898059844971, 10.200681686401367, 0.7009581327438354])\n"
     ]
    }
   ],
   "source": [
    "for i in range(len(x)):\n",
    "    if x[i] >= 0.2 and x[i] < 0.7:\n",
    "        x[i] = x[i] + 10\n",
    "print(x)"
   ]
  },
  {
   "cell_type": "markdown",
   "id": "db7c8e2d",
   "metadata": {},
   "source": [
    "Ex 2: using numpy"
   ]
  },
  {
   "cell_type": "code",
   "execution_count": 127,
   "id": "242c24d4",
   "metadata": {},
   "outputs": [
    {
     "data": {
      "text/plain": [
       "array([0.2760938 , 0.54243138, 0.14264671, 0.35843006, 0.04034348,\n",
       "       0.03638176, 0.27923123, 0.17680544, 0.17626384, 0.95911504])"
      ]
     },
     "execution_count": 127,
     "metadata": {},
     "output_type": "execute_result"
    }
   ],
   "source": [
    "import random\n",
    "y = np.zeros(10)\n",
    "for i in (range(len(y))):\n",
    "    y[i] = random.random()\n",
    "y"
   ]
  },
  {
   "cell_type": "code",
   "execution_count": 129,
   "id": "c31a6e83",
   "metadata": {},
   "outputs": [
    {
     "name": "stdout",
     "output_type": "stream",
     "text": [
      "[10.2760938  10.54243138  0.14264671 10.35843006  0.04034348  0.03638176\n",
      " 10.27923123  0.17680544  0.17626384 10.95911504]\n"
     ]
    }
   ],
   "source": [
    "for i in range(len(x)):\n",
    "    if y[i] >= 0.2 and x[i] < 0.7:\n",
    "        y[i] = y[i] + 10\n",
    "print(y)"
   ]
  },
  {
   "cell_type": "markdown",
   "id": "d86e0cad",
   "metadata": {},
   "source": [
    "#### 4. Create a 1D array with 10 random elements. Sort it.\n",
    "I will use the same array as in Ex. 2 above and the numpy function \"sort\"."
   ]
  },
  {
   "cell_type": "code",
   "execution_count": 147,
   "id": "6988d344",
   "metadata": {},
   "outputs": [
    {
     "name": "stdout",
     "output_type": "stream",
     "text": [
      "[10.2760938  10.54243138  0.14264671 10.35843006  0.04034348  0.03638176\n",
      " 10.27923123  0.17680544  0.17626384 10.95911504]\n"
     ]
    },
    {
     "data": {
      "text/plain": [
       "array([ 0.03638176,  0.04034348,  0.14264671,  0.17626384,  0.17680544,\n",
       "       10.2760938 , 10.27923123, 10.35843006, 10.54243138, 10.95911504])"
      ]
     },
     "execution_count": 147,
     "metadata": {},
     "output_type": "execute_result"
    }
   ],
   "source": [
    "print(y)\n",
    "np.sort(y)"
   ]
  },
  {
   "cell_type": "markdown",
   "id": "be2a8daa",
   "metadata": {},
   "source": [
    "#### 6. Create a 4x4 array of zeros, and another 4x4 array of ones. Next combine them into a single 8x4 array with the content of the zeros array on top and the ones on the bottom. Finally, do the same, but create a 4x8 array with the zeros on the left and the ones on the right.\n"
   ]
  },
  {
   "cell_type": "code",
   "execution_count": 137,
   "id": "d7f52570",
   "metadata": {},
   "outputs": [
    {
     "name": "stdout",
     "output_type": "stream",
     "text": [
      "[[0 0 0 0]\n",
      " [0 0 0 0]\n",
      " [0 0 0 0]\n",
      " [0 0 0 0]]\n",
      "[[1 1 1 1]\n",
      " [1 1 1 1]\n",
      " [1 1 1 1]\n",
      " [1 1 1 1]]\n"
     ]
    }
   ],
   "source": [
    "array1 = np.array([[0]*4]*4)\n",
    "print(array1)\n",
    "array2 = np.array([[1]*4]*4)\n",
    "print(array2)"
   ]
  },
  {
   "cell_type": "code",
   "execution_count": 140,
   "id": "5559ba01",
   "metadata": {},
   "outputs": [
    {
     "name": "stdout",
     "output_type": "stream",
     "text": [
      "[[0 0 0 0]\n",
      " [0 0 0 0]\n",
      " [0 0 0 0]\n",
      " [0 0 0 0]\n",
      " [1 1 1 1]\n",
      " [1 1 1 1]\n",
      " [1 1 1 1]\n",
      " [1 1 1 1]]\n",
      "[[0 0 0 0 1 1 1 1]\n",
      " [0 0 0 0 1 1 1 1]\n",
      " [0 0 0 0 1 1 1 1]\n",
      " [0 0 0 0 1 1 1 1]]\n"
     ]
    }
   ],
   "source": [
    "vertical = np.vstack((array1,array2))\n",
    "print(vertical)\n",
    "horizontal = np.hstack((array1,array2))\n",
    "print(horizontal)"
   ]
  },
  {
   "cell_type": "code",
   "execution_count": null,
   "id": "61f8711f",
   "metadata": {},
   "outputs": [],
   "source": []
  }
 ],
 "metadata": {
  "kernelspec": {
   "display_name": "Python 3 (ipykernel)",
   "language": "python",
   "name": "python3"
  },
  "language_info": {
   "codemirror_mode": {
    "name": "ipython",
    "version": 3
   },
   "file_extension": ".py",
   "mimetype": "text/x-python",
   "name": "python",
   "nbconvert_exporter": "python",
   "pygments_lexer": "ipython3",
   "version": "3.9.12"
  }
 },
 "nbformat": 4,
 "nbformat_minor": 5
}
